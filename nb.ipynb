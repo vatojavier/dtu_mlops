{
 "cells": [
  {
   "cell_type": "code",
   "execution_count": 218,
   "metadata": {},
   "outputs": [],
   "source": [
    "import torch\n",
    "import numpy as np\n",
    "from torch.utils.data import TensorDataset, DataLoader\n",
    "from matplotlib import pyplot as plt"
   ]
  },
  {
   "cell_type": "code",
   "execution_count": 270,
   "metadata": {},
   "outputs": [],
   "source": [
    "\n",
    "def mnist(shuffle=True, batch_size=64):\n",
    "    # exchange with the corrupted mnist dataset\n",
    "    # train = torch.randn(50000, 784)\n",
    "    # test = torch.randn(10000, 784)\n",
    "\n",
    "    train_images = []\n",
    "    train_labels = []\n",
    "    for i in range(5):\n",
    "        data = np.load(f\"../../../data/corruptmnist/train_{i}.npz\")\n",
    "        [train_images.append(img) for img in data[\"images\"]]\n",
    "        [train_labels.append(label) for label in data[\"labels\"]]\n",
    "\n",
    "    train_images = np.array(train_images)\n",
    "    # reshape to  (n_immgs, channels, pixels, pixels)\n",
    "    train_images = train_images.reshape(train_images.shape[0],1,28,28)\n",
    "    train_labels = np.array(train_labels)\n",
    "\n",
    "    # if shuffle == True:\n",
    "    #     np.random.seed(12)\n",
    "    #     # Get a random permutation of the indices\n",
    "    #     perm = np.random.permutation(train_images.shape[0])\n",
    "\n",
    "    #     train_images = train_images[perm]\n",
    "    #     train_labels = train_labels[perm]\n",
    "\n",
    "    train = [torch.tensor(train_images), torch.tensor(train_labels)]\n",
    "\n",
    "    test_images = []\n",
    "    test_labels = []\n",
    "    data = np.load(\"../../../data/corruptmnist/test.npz\")\n",
    "    [test_images.append(img) for img in data[\"images\"]]\n",
    "    [test_labels.append(label) for label in data[\"labels\"]]\n",
    "\n",
    "    test_images = np.array(test_images)\n",
    "    test_images = test_images.reshape(test_images.shape[0],1,28,28)\n",
    "    test_labels = np.array(test_labels)\n",
    "    test = [torch.tensor(test_images), torch.tensor(test_labels)]\n",
    "\n",
    "    train_dataset = TensorDataset(train[0], train[1]) # create your datset\n",
    "    train_loader = DataLoader(train_dataset, batch_size=batch_size) # create your dataloader\n",
    "\n",
    "    test_dataset = TensorDataset(test[0], test[1]) # create your datset\n",
    "    test_loader = DataLoader(test_dataset, batch_size=batch_size) # create your dataloader\n",
    "\n",
    "    return train_loader, test_loader\n",
    "\n",
    "trainloader, testloader = mnist(shuffle=False)"
   ]
  },
  {
   "cell_type": "code",
   "execution_count": 272,
   "metadata": {},
   "outputs": [
    {
     "name": "stdout",
     "output_type": "stream",
     "text": [
      "torch.Size([64, 1, 28, 28])\n",
      "2\n"
     ]
    },
    {
     "data": {
      "image/png": "[encoded data removed]",
      "text/plain": [
       "<Figure size 640x480 with 1 Axes>"
      ]
     },
     "metadata": {},
     "output_type": "display_data"
    }
   ],
   "source": [
    "image, label = next(iter(testloader))\n",
    "\n",
    "print(image.shape)\n",
    "# helper.imshow(image[0,:]);\n",
    "# image = image.numpy().transpose((1, 2, 0))\n",
    "image = image.reshape(64, 28,28)\n",
    "\n",
    "print(label[1].item())\n",
    "plt.imshow(image[1,:], interpolation='nearest')\n",
    "plt.show()"
   ]
  },
  {
   "cell_type": "code",
   "execution_count": 245,
   "metadata": {},
   "outputs": [
    {
     "data": {
      "text/plain": [
       "tensor([0., 0., 0., 0., 0., 0., 0., 0., 0., 0., 0., 0., 0., 0., 0., 0., 0., 0., 0., 0., 0., 0., 0., 0.,\n",
       "        0., 0., 0., 0.], dtype=torch.float64)"
      ]
     },
     "execution_count": 245,
     "metadata": {},
     "output_type": "execute_result"
    }
   ],
   "source": [
    "image[0][0][0]"
   ]
  },
  {
   "cell_type": "code",
   "execution_count": 216,
   "metadata": {},
   "outputs": [
    {
     "ename": "ValueError",
     "evalue": "cannot reshape array of size 19600000 into shape (64,1,28,28)",
     "output_type": "error",
     "traceback": [
      "\u001b[0;31m---------------------------------------------------------------------------\u001b[0m",
      "\u001b[0;31mValueError\u001b[0m                                Traceback (most recent call last)",
      "Cell \u001b[0;32mIn[216], line 1\u001b[0m\n\u001b[0;32m----> 1\u001b[0m images \u001b[39m=\u001b[39m torch\u001b[39m.\u001b[39mTensor(train[\u001b[39m0\u001b[39;49m]\u001b[39m.\u001b[39;49mreshape(\u001b[39m64\u001b[39;49m,\u001b[39m1\u001b[39;49m,\u001b[39m28\u001b[39;49m,\u001b[39m28\u001b[39;49m))\n\u001b[1;32m      2\u001b[0m labels \u001b[39m=\u001b[39m torch\u001b[39m.\u001b[39mTensor(train[\u001b[39m1\u001b[39m])\n\u001b[1;32m      3\u001b[0m images\u001b[39m.\u001b[39mshape\n",
      "\u001b[0;31mValueError\u001b[0m: cannot reshape array of size 19600000 into shape (64,1,28,28)"
     ]
    }
   ],
   "source": [
    "images = torch.Tensor(train[0].reshape(64,1,28,28))\n",
    "labels = torch.Tensor(train[1])\n",
    "images.shape\n",
    "\n",
    "train_dataset = TensorDataset(images, labels) # create your datset\n",
    "train_loader = DataLoader(train_dataset, batch_size=64) # create your dataloader\n",
    "\n",
    "from matplotlib import pyplot as plt\n",
    "\n",
    "image, label = next(iter(train_loader))\n",
    "# helper.imshow(image[0,:]);\n",
    "\n",
    "print(label[0].item())\n",
    "plt.imshow(image[0,:], interpolation='nearest')\n",
    "plt.show()"
   ]
  }
 ],
 "metadata": {
  "kernelspec": {
   "display_name": "mlops",
   "language": "python",
   "name": "python3"
  },
  "language_info": {
   "codemirror_mode": {
    "name": "ipython",
    "version": 3
   },
   "file_extension": ".py",
   "mimetype": "text/x-python",
   "name": "python",
   "nbconvert_exporter": "python",
   "pygments_lexer": "ipython3",
   "version": "3.10.6 (main, Nov 14 2022, 16:10:14) [GCC 11.3.0]"
  },
  "orig_nbformat": 4,
  "vscode": {
   "interpreter": {
    "hash": "364d41ccf9fde6d0445910ba96b8049d1957487299e25446bface04de60fa4a5"
   }
  }
 },
 "nbformat": 4,
 "nbformat_minor": 2
}
